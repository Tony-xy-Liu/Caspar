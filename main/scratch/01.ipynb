{
 "cells": [
  {
   "cell_type": "code",
   "execution_count": 27,
   "metadata": {},
   "outputs": [],
   "source": [
    "import sys\n",
    "sys.path = list(set([\n",
    "    \"../../lib/\",\n",
    "]+sys.path))\n",
    "import json\n",
    "import requests\n",
    "from local.caching import load, save, DictCache\n",
    "from local.web import ncbi_search, chain_get\n",
    "from local.constants import WORKSPACE_ROOT"
   ]
  },
  {
   "cell_type": "code",
   "execution_count": 35,
   "metadata": {},
   "outputs": [
    {
     "name": "stdout",
     "output_type": "stream",
     "text": [
      "fetching result 1246 of 1246\n",
      "fetching result 303 of 303\n",
      "fetching result 123 of 123\n",
      "fetching result 2 of 2\n",
      "fetching result 1 of 1\n",
      "fetching result 117 of 117\n"
     ]
    }
   ],
   "source": [
    "queries = [\n",
    "    \"cyanobacteria genomic models\",\n",
    "    \"cyanobacteria genomic database\",\n",
    "    \"finding gene clusters AND cyanobacteria\",\n",
    "    \"treesapp\",\n",
    "    \"STRING v10: protein–protein interaction networks, integrated over the tree of life\",\n",
    "    \"resolving metabolic community interactions in bacteria\",\n",
    "    # \"Anaerobic digester metabolic models\",\n",
    "]\n",
    "RESPONSES = []\n",
    "for q in queries:\n",
    "    err, ress = ncbi_search(q, \"pubmed\", \"efetch\", search_params=[(\"retmax\", \"10000\")], response_params=[(\"rettype\", \"abstract\")])\n",
    "    print()\n",
    "    assert err is None\n",
    "    RESPONSES += ress\n",
    "# print(json.dumps(d[0], indent=4))"
   ]
  },
  {
   "cell_type": "code",
   "execution_count": 36,
   "metadata": {},
   "outputs": [],
   "source": [
    "_kk = set()\n",
    "def get_summary(data: dict):\n",
    "    if \"PubmedBookArticle\" in data[\"PubmedArticleSet\"]:\n",
    "        print(\"skipping book\")\n",
    "        return None\n",
    "\n",
    "    x = chain_get(data, \"PubmedArticleSet, PubmedArticle, MedlineCitation, Article, ArticleTitle\")\n",
    "    assert len(x) == 1, x\n",
    "    title = x[0]\n",
    "    if isinstance(title, dict):\n",
    "        title = \"\\n\".join([s if isinstance(s, str) else \" \".join(s) for s in title.values()])\n",
    "\n",
    "    x = chain_get(data, \"PubmedArticleSet, PubmedArticle, MedlineCitation, Article, Abstract, AbstractText\")\n",
    "    abstract = []\n",
    "    if x is not None:\n",
    "        for d in x:\n",
    "            if isinstance(d, str):\n",
    "                abstract.append(d)\n",
    "            else:\n",
    "                for k, v in d.items():\n",
    "                    if k != \"#text\": \n",
    "                        _kk.add(k)\n",
    "                        continue\n",
    "                    try:\n",
    "                        if isinstance(v, str): abstract.append(v)\n",
    "                        elif isinstance(v, list): abstract.append(\" \".join(set(v)))\n",
    "                        elif isinstance(v, dict): abstract.append(\" \".join(v.values()))\n",
    "                    except:\n",
    "                        abstract.append(json.dumps(v))\n",
    "        \n",
    "    x = chain_get(data, \"PubmedArticleSet, PubmedArticle, PubmedData, ArticleIdList, ArticleId\")\n",
    "    if x is None:\n",
    "        doi = \"\"\n",
    "    else:\n",
    "        doi = None\n",
    "        for entry in x:\n",
    "            if \"doi\" in entry.values():\n",
    "                doi = entry[\"#text\"]\n",
    "        if doi is None:\n",
    "            doi = \"\"\n",
    "\n",
    "    return doi, title, \"\\n\".join(abstract)"
   ]
  },
  {
   "cell_type": "code",
   "execution_count": 37,
   "metadata": {},
   "outputs": [
    {
     "name": "stdout",
     "output_type": "stream",
     "text": [
      "skipping book\n"
     ]
    },
    {
     "data": {
      "text/plain": [
       "1695"
      ]
     },
     "execution_count": 37,
     "metadata": {},
     "output_type": "execute_result"
    }
   ],
   "source": [
    "# with open(\"./cache/abstracts.txt\", \"w\") as f:\n",
    "all_entries = []\n",
    "seen_titles = set()\n",
    "deduped_responses = []\n",
    "for i, e in enumerate(RESPONSES):\n",
    "    toks = get_summary(e)\n",
    "    if toks is None: continue\n",
    "    for x in toks:\n",
    "        assert isinstance(x, str), x\n",
    "    doi, t, a = toks\n",
    "    if t in seen_titles: continue\n",
    "    seen_titles.add(t)\n",
    "    deduped_responses.append(e)\n",
    "\n",
    "    entry = \"\".join([f\"{x}\" for x in [\n",
    "        f\"{t}\",\n",
    "        f\"{a}\",\n",
    "    ]])\n",
    "    # f.write(entry+\"\\n\\n\")\n",
    "    all_entries.append((i, doi, entry))\n",
    "len(all_entries)"
   ]
  },
  {
   "cell_type": "code",
   "execution_count": 38,
   "metadata": {},
   "outputs": [],
   "source": [
    "# with DictCache(\"ada_embeddings\") as cache:\n",
    "#     for k, v in cache.items():\n",
    "#         # print(v)\n",
    "#         pass"
   ]
  },
  {
   "cell_type": "code",
   "execution_count": 39,
   "metadata": {},
   "outputs": [
    {
     "name": "stdout",
     "output_type": "stream",
     "text": [
      "1695 of 1695"
     ]
    }
   ],
   "source": [
    "with open(WORKSPACE_ROOT.joinpath(\"secrets/openai_key\")) as s:\n",
    "    OPENAI_KEY = s.readline().replace(\"\\n\", \"\").strip()\n",
    "def get_embedding(entry: str):\n",
    "    MAX_L = 8191\n",
    "    if len(entry) > MAX_L:\n",
    "        e = entry[:MAX_L]\n",
    "        print(f\"truncated to {MAX_L} from {len(entry)}\")\n",
    "    else:\n",
    "        e = entry\n",
    "\n",
    "    with DictCache(\"ada_embeddings\") as cache:\n",
    "        if e in cache:\n",
    "            return cache[e]\n",
    "        else:\n",
    "            r = requests.post(\n",
    "                url=\"https://api.openai.com/v1/embeddings\",\n",
    "                headers={\n",
    "                    \"Content-Type\": \"application/json\",\n",
    "                    \"Authorization\": f\"Bearer {OPENAI_KEY}\",\n",
    "                },\n",
    "                json={\n",
    "                    \"model\": \"text-embedding-ada-002\",\n",
    "                    \"input\": e,\n",
    "                }\n",
    "            )\n",
    "            data = r.json()\n",
    "            if r.status_code == 200:\n",
    "                cache[e] = data\n",
    "            return data\n",
    "        \n",
    "embeddings = []\n",
    "for i, (_, doi, text) in enumerate(all_entries):\n",
    "    print(f\"\\r{i+1} of {len(all_entries)}\", end=\"\")\n",
    "    d = get_embedding(text)\n",
    "    embeddings.append(d)"
   ]
  },
  {
   "cell_type": "code",
   "execution_count": 40,
   "metadata": {},
   "outputs": [],
   "source": [
    "import numpy as np\n",
    "mapping = []\n",
    "i = 0\n",
    "for e in deduped_responses:\n",
    "    toks = get_summary(e)\n",
    "    if toks is None: continue\n",
    "    doi, t, a = toks\n",
    "    emb = embeddings[i]['data'][0]['embedding']\n",
    "    mapping.append((doi, t, a, np.array(emb, dtype=np.float64)))\n",
    "    i += 1"
   ]
  },
  {
   "cell_type": "code",
   "execution_count": 41,
   "metadata": {},
   "outputs": [
    {
     "name": "stdout",
     "output_type": "stream",
     "text": [
      "compressing & caching data to [{WORKSPACE}/main/scratch/cache/1k_cy_mapping.pkl.gz]\n"
     ]
    }
   ],
   "source": [
    "save(f\"1k_cy_mapping\", mapping)"
   ]
  }
 ],
 "metadata": {
  "kernelspec": {
   "display_name": "p311",
   "language": "python",
   "name": "python3"
  },
  "language_info": {
   "codemirror_mode": {
    "name": "ipython",
    "version": 3
   },
   "file_extension": ".py",
   "mimetype": "text/x-python",
   "name": "python",
   "nbconvert_exporter": "python",
   "pygments_lexer": "ipython3",
   "version": "3.11.0"
  },
  "orig_nbformat": 4
 },
 "nbformat": 4,
 "nbformat_minor": 2
}
